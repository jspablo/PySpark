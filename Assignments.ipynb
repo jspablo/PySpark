{
 "cells": [
  {
   "cell_type": "markdown",
   "metadata": {},
   "source": [
    "# Data processing course assignments\n",
    "---"
   ]
  },
  {
   "cell_type": "code",
   "execution_count": 1,
   "metadata": {
    "collapsed": true
   },
   "outputs": [],
   "source": [
    "import pyspark\n",
    "from pyspark import SparkConf, SparkContext\n",
    "from pyspark.sql import SparkSession\n",
    "from pyspark.sql.functions import asc, lit\n",
    "import re"
   ]
  },
  {
   "cell_type": "code",
   "execution_count": 2,
   "metadata": {
    "collapsed": true
   },
   "outputs": [],
   "source": [
    "#conf = SparkConf().setAppName('Assignment').setMaster('local')\n",
    "#sc = SparkContext(conf=conf)"
   ]
  },
  {
   "cell_type": "markdown",
   "metadata": {},
   "source": [
    "Introducing `SparkSession`, it is a combination of the previous versions `SparkConf`, `SparkContext`, `SQLContext`, and `HiveContext`."
   ]
  },
  {
   "cell_type": "code",
   "execution_count": 3,
   "metadata": {
    "collapsed": true
   },
   "outputs": [],
   "source": [
    "spark = SparkSession \\\n",
    "    .builder \\\n",
    "    .appName(\"Python Spark\") \\\n",
    "    .config(\"spark.some.config.option\", \"some-value\") \\\n",
    "    .getOrCreate()"
   ]
  },
  {
   "cell_type": "markdown",
   "metadata": {},
   "source": [
    "## Ejercicio 0."
   ]
  },
  {
   "cell_type": "code",
   "execution_count": null,
   "metadata": {
    "collapsed": true
   },
   "outputs": [],
   "source": []
  },
  {
   "cell_type": "code",
   "execution_count": null,
   "metadata": {
    "collapsed": true
   },
   "outputs": [],
   "source": []
  },
  {
   "cell_type": "markdown",
   "metadata": {},
   "source": [
    "## Ejercicio 1.\n",
    "#### Leer el archivo data/containers.csv y contar el número de líneas.\n",
    "---"
   ]
  },
  {
   "cell_type": "markdown",
   "metadata": {},
   "source": [
    "Obteniendo los datos del archivo csv."
   ]
  },
  {
   "cell_type": "code",
   "execution_count": 4,
   "metadata": {},
   "outputs": [
    {
     "name": "stdout",
     "output_type": "stream",
     "text": [
      "\u001b[0m\u001b[01;32mAssignments.ipynb\u001b[0m*  \u001b[34;42mdata_processing_course-master\u001b[0m/  \u001b[34;42mspark-warehouse\u001b[0m/\r\n",
      "\u001b[01;32mcontainers.csv\u001b[0m*     \u001b[01;32mPySpark.ipynb\u001b[0m*                  \u001b[34;42mtextMining\u001b[0m/\r\n"
     ]
    }
   ],
   "source": [
    "ls"
   ]
  },
  {
   "cell_type": "code",
   "execution_count": 5,
   "metadata": {
    "collapsed": true
   },
   "outputs": [],
   "source": [
    "path = \"/home/jovyan/work/data_processing_course-master/assignments/data/containers.csv\"\n",
    "csvdata = spark.read.format(\"csv\").option(\"header\", \"false\").load(path)"
   ]
  },
  {
   "cell_type": "code",
   "execution_count": 6,
   "metadata": {},
   "outputs": [
    {
     "data": {
      "text/plain": [
       "[Row(_c0='ship_imo;ship_name;country;departure;container_id;container_type;container_group;net_weight;gross_weight;owner;declared;contact;customs_ok'),\n",
       " Row(_c0='AMC1861710;Jayden;BD;201602183;FCUK1755843;4960;28VH;44804866.62;2240243.33;Streich-Wilkinson;Music')]"
      ]
     },
     "execution_count": 6,
     "metadata": {},
     "output_type": "execute_result"
    }
   ],
   "source": [
    "# Comprobando obtención de los datos.\n",
    "csvdata.take(2)"
   ]
  },
  {
   "cell_type": "markdown",
   "metadata": {},
   "source": [
    "Contando el número de líneas del archivo csv."
   ]
  },
  {
   "cell_type": "code",
   "execution_count": 7,
   "metadata": {},
   "outputs": [
    {
     "data": {
      "text/plain": [
       "614"
      ]
     },
     "execution_count": 7,
     "metadata": {},
     "output_type": "execute_result"
    }
   ],
   "source": [
    "csvdata.count()"
   ]
  },
  {
   "cell_type": "markdown",
   "metadata": {},
   "source": [
    "## Ejercicio 2.\n",
    "#### Leer el archivo data/containers.csv y filtrar aquellos contenedores cuyo ship_imo es DEJ1128330 y el grupo del contenedor es 22P1. Guardar los resultados en un archivo de texto en resultados/resutado_2.\n",
    "---"
   ]
  },
  {
   "cell_type": "code",
   "execution_count": 8,
   "metadata": {},
   "outputs": [
    {
     "name": "stdout",
     "output_type": "stream",
     "text": [
      "<class 'pyspark.sql.dataframe.DataFrame'>\n",
      "<class 'pyspark.rdd.RDD'>\n"
     ]
    },
    {
     "data": {
      "text/plain": [
       "[['ship_imo',\n",
       "  'ship_name',\n",
       "  'country',\n",
       "  'departure',\n",
       "  'container_id',\n",
       "  'container_type',\n",
       "  'container_group',\n",
       "  'net_weight',\n",
       "  'gross_weight',\n",
       "  'owner',\n",
       "  'declared',\n",
       "  'contact',\n",
       "  'customs_ok'],\n",
       " ['AMC1861710',\n",
       "  'Jayden',\n",
       "  'BD',\n",
       "  '201602183',\n",
       "  'FCUK1755843',\n",
       "  '4960',\n",
       "  '28VH',\n",
       "  '44804866.62',\n",
       "  '2240243.33',\n",
       "  'Streich-Wilkinson',\n",
       "  'Music']]"
      ]
     },
     "execution_count": 8,
     "metadata": {},
     "output_type": "execute_result"
    }
   ],
   "source": [
    "print(type(csvdata))\n",
    "datardd = csvdata.rdd\n",
    "print(type(datardd))\n",
    "\n",
    "datasplit = datardd.map(lambda row: row[0].split(\";\"))\n",
    "\n",
    "datasplit.take(2)"
   ]
  },
  {
   "cell_type": "code",
   "execution_count": 9,
   "metadata": {},
   "outputs": [
    {
     "data": {
      "text/plain": [
       "['ship_imo',\n",
       " 'AMC1861710',\n",
       " 'POG1615575',\n",
       " 'SQH1155999',\n",
       " 'JCI1797526',\n",
       " 'MBV1836745',\n",
       " 'GYR1192020',\n",
       " 'GLV1922612',\n",
       " 'NLH1771681',\n",
       " 'FUS1202266']"
      ]
     },
     "execution_count": 9,
     "metadata": {},
     "output_type": "execute_result"
    }
   ],
   "source": [
    "# datafiltered = datasplit.filter(lambda row: row == '22P1')\n",
    "datasplit.map(lambda row: row[0]).take(10)"
   ]
  },
  {
   "cell_type": "code",
   "execution_count": 10,
   "metadata": {},
   "outputs": [
    {
     "data": {
      "text/plain": [
       "2"
      ]
     },
     "execution_count": 10,
     "metadata": {},
     "output_type": "execute_result"
    }
   ],
   "source": [
    "datasplit.filter(lambda row: row[6] == '22P1' and row[0] == 'DEJ1128330').count()"
   ]
  },
  {
   "cell_type": "code",
   "execution_count": 11,
   "metadata": {},
   "outputs": [
    {
     "data": {
      "text/plain": [
       "[['DEJ1128330',\n",
       "  'Tiara',\n",
       "  'GP',\n",
       "  '2016021818',\n",
       "  'GYFD1228113',\n",
       "  '20PF',\n",
       "  '22P1',\n",
       "  '51503716.88',\n",
       "  '5150371.69',\n",
       "  'Armstrong-Goldner',\n",
       "  'Automotive'],\n",
       " ['DEJ1128330',\n",
       "  'Tiara',\n",
       "  'GP',\n",
       "  '2016021818',\n",
       "  'MBPF1909627',\n",
       "  '24H2',\n",
       "  '22P1',\n",
       "  '37266600.88',\n",
       "  '1863330.04',\n",
       "  'Lehner-Hamill',\n",
       "  'Jewelery']]"
      ]
     },
     "execution_count": 11,
     "metadata": {},
     "output_type": "execute_result"
    }
   ],
   "source": [
    "datasplit.filter(lambda row: row[6] == '22P1' and row[0] == 'DEJ1128330').take(2)"
   ]
  },
  {
   "cell_type": "markdown",
   "metadata": {},
   "source": [
    "Guardando los datos como archivo de texto"
   ]
  },
  {
   "cell_type": "code",
   "execution_count": 12,
   "metadata": {
    "collapsed": true
   },
   "outputs": [],
   "source": [
    "x1 = datasplit.filter(lambda row: row[6] == '22P1' and row[0] == 'DEJ1128330')\n",
    "x1.saveAsTextFile('data_processing_course-master/assignments/resultados/resultado_2')"
   ]
  },
  {
   "cell_type": "markdown",
   "metadata": {},
   "source": [
    "## Ejercicio 3.\n",
    "#### Leer el archivo data/containers.csv y convertir a formato Parquet. Recuerda que puedes hacer uso de la funcion parse_container en helpers.py tal y como vimos en clase. Guarda los resultados en resultados/resultado_3.\n",
    "---"
   ]
  },
  {
   "cell_type": "markdown",
   "metadata": {},
   "source": [
    "Using `SparkSession` to create a Dataframe from a csv. I am using a Dataframe instead of a RDD, because are RDDs are schemaless, and Dataframes are close to Parquet files structure."
   ]
  },
  {
   "cell_type": "code",
   "execution_count": 13,
   "metadata": {
    "collapsed": true
   },
   "outputs": [],
   "source": [
    "data3 = spark.read.csv(path, header=True, sep=';') #Usamos el mismo path creado previamente"
   ]
  },
  {
   "cell_type": "code",
   "execution_count": 14,
   "metadata": {},
   "outputs": [
    {
     "name": "stdout",
     "output_type": "stream",
     "text": [
      "+----------+-----------------+-------+----------+------------+--------------+---------------+-----------+------------+-----------------+--------------------+--------------------+----------+\n",
      "|  ship_imo|        ship_name|country| departure|container_id|container_type|container_group| net_weight|gross_weight|            owner|            declared|             contact|customs_ok|\n",
      "+----------+-----------------+-------+----------+------------+--------------+---------------+-----------+------------+-----------------+--------------------+--------------------+----------+\n",
      "|AMC1861710|           Jayden|     BD| 201602183| FCUK1755843|          4960|           28VH|44804866.62|  2240243.33|Streich-Wilkinson|Music, Tools, Aut...|octavia@stammbedn...|      true|\n",
      "|POG1615575|Lake Eribertoland|     CR|2016021611| PDXW1549639|          28VH|           8888|16681047.32|   500431.42|  Senger and Sons|   Movies & Jewelery|cindy.dubuque@rob...|      true|\n",
      "|SQH1155999|           Aileen|     GN| 201602191| PLKO1661930|          L2R3|           L5R1|69102632.38|  3455131.62| Thompson-Kautzer|   Movies & Jewelery|otha@granteichman...|      true|\n",
      "+----------+-----------------+-------+----------+------------+--------------+---------------+-----------+------------+-----------------+--------------------+--------------------+----------+\n",
      "only showing top 3 rows\n",
      "\n"
     ]
    }
   ],
   "source": [
    "data3.show(3)"
   ]
  },
  {
   "cell_type": "code",
   "execution_count": 15,
   "metadata": {},
   "outputs": [
    {
     "name": "stdout",
     "output_type": "stream",
     "text": [
      "/home/jovyan/work/data_processing_course-master/assignments/resultados\n"
     ]
    }
   ],
   "source": [
    "cd data_processing_course-master/assignments/resultados"
   ]
  },
  {
   "cell_type": "code",
   "execution_count": 16,
   "metadata": {
    "collapsed": true
   },
   "outputs": [],
   "source": [
    "data3.write.parquet(\"data_processing_course-master/assignments/resultados/resultado_3\")"
   ]
  },
  {
   "cell_type": "code",
   "execution_count": 17,
   "metadata": {},
   "outputs": [
    {
     "data": {
      "text/plain": [
       "613"
      ]
     },
     "execution_count": 17,
     "metadata": {},
     "output_type": "execute_result"
    }
   ],
   "source": [
    "data3.count()"
   ]
  },
  {
   "cell_type": "markdown",
   "metadata": {},
   "source": [
    "## Ejercicio 4.\n",
    "#### Lee el archivo de Parquet guardado en el ejercicio 3 y filtra los barcos que tienen al menos un contenedor donde la columna customs_ok es igual a false. Extrae una lista con los identificadores de barco, ship_imo, sin duplicados y ordenados alfabéticamente, en formato json.\n",
    "---"
   ]
  },
  {
   "cell_type": "code",
   "execution_count": 18,
   "metadata": {
    "collapsed": true
   },
   "outputs": [],
   "source": [
    "data4 = spark.read.parquet(\"data_processing_course-master/assignments/resultados/resultado_3\")"
   ]
  },
  {
   "cell_type": "code",
   "execution_count": 19,
   "metadata": {},
   "outputs": [
    {
     "data": {
      "text/plain": [
       "613"
      ]
     },
     "execution_count": 19,
     "metadata": {},
     "output_type": "execute_result"
    }
   ],
   "source": [
    "data4.count()"
   ]
  },
  {
   "cell_type": "code",
   "execution_count": 20,
   "metadata": {},
   "outputs": [
    {
     "data": {
      "text/plain": [
       "['ship_imo',\n",
       " 'ship_name',\n",
       " 'country',\n",
       " 'departure',\n",
       " 'container_id',\n",
       " 'container_type',\n",
       " 'container_group',\n",
       " 'net_weight',\n",
       " 'gross_weight',\n",
       " 'owner',\n",
       " 'declared',\n",
       " 'contact',\n",
       " 'customs_ok']"
      ]
     },
     "execution_count": 20,
     "metadata": {},
     "output_type": "execute_result"
    }
   ],
   "source": [
    "data4.columns"
   ]
  },
  {
   "cell_type": "code",
   "execution_count": 21,
   "metadata": {
    "collapsed": true
   },
   "outputs": [],
   "source": [
    "data4.createOrReplaceTempView(\"data\")"
   ]
  },
  {
   "cell_type": "code",
   "execution_count": 22,
   "metadata": {},
   "outputs": [
    {
     "name": "stdout",
     "output_type": "stream",
     "text": [
      "+----------+\n",
      "|  ship_imo|\n",
      "+----------+\n",
      "|KSP1096387|\n",
      "|GYR1192020|\n",
      "|JET1053895|\n",
      "|SQH1155999|\n",
      "|NLH1771681|\n",
      "|JCI1797526|\n",
      "|GEU1548633|\n",
      "|AEY1108363|\n",
      "|IWE1254579|\n",
      "|AMC1861710|\n",
      "|POG1615575|\n",
      "|MBV1836745|\n",
      "|GLV1922612|\n",
      "|YZX1455509|\n",
      "|TCU1641123|\n",
      "|JMP1637582|\n",
      "|DEJ1128330|\n",
      "|RYP1117603|\n",
      "|FUS1202266|\n",
      "|NCZ1777367|\n",
      "+----------+\n",
      "\n"
     ]
    }
   ],
   "source": [
    "spark.sql(\"SELECT DISTINCT ship_imo FROM data WHERE customs_ok = 'false'\").show()"
   ]
  },
  {
   "cell_type": "code",
   "execution_count": 23,
   "metadata": {
    "collapsed": true
   },
   "outputs": [],
   "source": [
    "data4 = spark.sql(\"SELECT DISTINCT ship_imo FROM data WHERE customs_ok = 'false'\")"
   ]
  },
  {
   "cell_type": "code",
   "execution_count": 24,
   "metadata": {},
   "outputs": [
    {
     "data": {
      "text/plain": [
       "20"
      ]
     },
     "execution_count": 24,
     "metadata": {},
     "output_type": "execute_result"
    }
   ],
   "source": [
    "spark.sql(\"SELECT DISTINCT ship_imo FROM data WHERE customs_ok = 'false'\").count()"
   ]
  },
  {
   "cell_type": "code",
   "execution_count": 25,
   "metadata": {},
   "outputs": [
    {
     "data": {
      "text/plain": [
       "pyspark.sql.dataframe.DataFrame"
      ]
     },
     "execution_count": 25,
     "metadata": {},
     "output_type": "execute_result"
    }
   ],
   "source": [
    "type(data4)"
   ]
  },
  {
   "cell_type": "code",
   "execution_count": 26,
   "metadata": {},
   "outputs": [
    {
     "data": {
      "text/plain": [
       "[Row(ship_imo='AEY1108363'),\n",
       " Row(ship_imo='AMC1861710'),\n",
       " Row(ship_imo='DEJ1128330'),\n",
       " Row(ship_imo='FUS1202266'),\n",
       " Row(ship_imo='GEU1548633'),\n",
       " Row(ship_imo='GLV1922612'),\n",
       " Row(ship_imo='GYR1192020'),\n",
       " Row(ship_imo='IWE1254579'),\n",
       " Row(ship_imo='JCI1797526'),\n",
       " Row(ship_imo='JET1053895'),\n",
       " Row(ship_imo='JMP1637582'),\n",
       " Row(ship_imo='KSP1096387'),\n",
       " Row(ship_imo='MBV1836745'),\n",
       " Row(ship_imo='NCZ1777367'),\n",
       " Row(ship_imo='NLH1771681'),\n",
       " Row(ship_imo='POG1615575'),\n",
       " Row(ship_imo='RYP1117603'),\n",
       " Row(ship_imo='SQH1155999'),\n",
       " Row(ship_imo='TCU1641123'),\n",
       " Row(ship_imo='YZX1455509')]"
      ]
     },
     "execution_count": 26,
     "metadata": {},
     "output_type": "execute_result"
    }
   ],
   "source": [
    "data4.sort(asc(\"ship_imo\")).collect()"
   ]
  },
  {
   "cell_type": "code",
   "execution_count": 27,
   "metadata": {
    "collapsed": true
   },
   "outputs": [],
   "source": [
    "data4.sort(asc(\"ship_imo\")).write.json(\"data_processing_course-master/assignments/resultados/resultado_4\")"
   ]
  },
  {
   "cell_type": "markdown",
   "metadata": {},
   "source": [
    "## Ejercicio 5.\n",
    "#### Crea una UDF para validar el código de identificación del contenedor container_id. Para simplificar la validación, daremos como válidos aquellos códigos compuestos de 3 letras para el propietario, 1 letra para la categoría, 6 números y 1 dígito de control. Devuelve un DataFrame con los campos: ship_imo, container_id, propietario, categoria, numero_serie y digito_control.\n",
    "---"
   ]
  },
  {
   "cell_type": "code",
   "execution_count": 28,
   "metadata": {},
   "outputs": [
    {
     "name": "stdout",
     "output_type": "stream",
     "text": [
      "+------------+\n",
      "|container_id|\n",
      "+------------+\n",
      "| DXTQ1407119|\n",
      "| VXNB1938296|\n",
      "| OVMU1118217|\n",
      "| EAQO1539643|\n",
      "| SGQH1799946|\n",
      "| SWXT1708984|\n",
      "| EDBR1562470|\n",
      "| FCMB1487245|\n",
      "| UBRI1681197|\n",
      "| LFTG1322014|\n",
      "| RAUX1713695|\n",
      "| QKOJ1756061|\n",
      "| JVFH1614514|\n",
      "| KETX1362337|\n",
      "| KUOG1927848|\n",
      "| GSVC1467358|\n",
      "| JXRI1226202|\n",
      "| QZKL1853985|\n",
      "| HDGM1122708|\n",
      "| ZBJH1066313|\n",
      "+------------+\n",
      "only showing top 20 rows\n",
      "\n"
     ]
    }
   ],
   "source": [
    "spark.sql(\"SELECT DISTINCT container_id FROM data \").show()"
   ]
  },
  {
   "cell_type": "markdown",
   "metadata": {},
   "source": [
    "Getting familiar with Python re package"
   ]
  },
  {
   "cell_type": "code",
   "execution_count": 29,
   "metadata": {},
   "outputs": [
    {
     "name": "stdout",
     "output_type": "stream",
     "text": [
      "[Row(container_id='DXTQ1407119'), Row(container_id='VXNB1938296')]\n"
     ]
    }
   ],
   "source": [
    "test5 = spark.sql(\"SELECT DISTINCT container_id FROM data \").take(2)\n",
    "type(test5)\n",
    "type(test5[0])\n",
    "print(str(test5))"
   ]
  },
  {
   "cell_type": "code",
   "execution_count": 30,
   "metadata": {
    "collapsed": true
   },
   "outputs": [],
   "source": [
    "containeridre = re.search(r'\\w\\w\\w\\w\\d\\d\\d\\d\\d\\d\\d', str(test5[0]))"
   ]
  },
  {
   "cell_type": "code",
   "execution_count": 31,
   "metadata": {},
   "outputs": [
    {
     "name": "stdout",
     "output_type": "stream",
     "text": [
      "ez pz\n"
     ]
    }
   ],
   "source": [
    "if containeridre:\n",
    "    print('ez pz')\n",
    "else:\n",
    "    pass"
   ]
  },
  {
   "cell_type": "markdown",
   "metadata": {},
   "source": [
    "Creating function to validate container ID"
   ]
  },
  {
   "cell_type": "code",
   "execution_count": 75,
   "metadata": {
    "collapsed": true
   },
   "outputs": [],
   "source": [
    "def validateID(containerID):\n",
    "    containeridre = re.search(r'\\w\\w\\w\\w\\d\\d\\d\\d\\d\\d\\d', str(containerID))\n",
    "    if containeridre:\n",
    "        print(\"Container ID valid: \" + str(containerID))\n",
    "        return(\"Container ID valid: \" + str(containerID))\n",
    "    else:\n",
    "        print(\"----- Container ID not valid: \" + str(containerID) + '-----')\n",
    "        return(\"----- Container ID not valid: \" + str(containerID) + '-----')"
   ]
  },
  {
   "cell_type": "code",
   "execution_count": 33,
   "metadata": {
    "collapsed": true
   },
   "outputs": [],
   "source": [
    "data5 = spark.sql(\"SELECT DISTINCT container_id FROM data \")"
   ]
  },
  {
   "cell_type": "code",
   "execution_count": 34,
   "metadata": {
    "collapsed": true
   },
   "outputs": [],
   "source": [
    "data5col = data5.select(\"container_id\")"
   ]
  },
  {
   "cell_type": "code",
   "execution_count": 35,
   "metadata": {},
   "outputs": [
    {
     "data": {
      "text/plain": [
       "[Row(container_id='DXTQ1407119'), Row(container_id='VXNB1938296')]"
      ]
     },
     "execution_count": 35,
     "metadata": {},
     "output_type": "execute_result"
    }
   ],
   "source": [
    "data5col.rdd.take(2)"
   ]
  },
  {
   "cell_type": "code",
   "execution_count": 36,
   "metadata": {},
   "outputs": [
    {
     "name": "stdout",
     "output_type": "stream",
     "text": [
      "Container ID valid: DXTQ1407119\n"
     ]
    }
   ],
   "source": [
    "validateID('DXTQ1407119')"
   ]
  },
  {
   "cell_type": "code",
   "execution_count": 73,
   "metadata": {
    "collapsed": true
   },
   "outputs": [],
   "source": [
    "def test(x):\n",
    "    return(str(x))"
   ]
  },
  {
   "cell_type": "code",
   "execution_count": 76,
   "metadata": {},
   "outputs": [
    {
     "data": {
      "text/plain": [
       "[\"Container ID valid: Row(container_id='DXTQ1407119')\",\n",
       " \"Container ID valid: Row(container_id='VXNB1938296')\",\n",
       " \"Container ID valid: Row(container_id='OVMU1118217')\",\n",
       " \"Container ID valid: Row(container_id='EAQO1539643')\",\n",
       " \"Container ID valid: Row(container_id='SGQH1799946')\",\n",
       " \"Container ID valid: Row(container_id='SWXT1708984')\",\n",
       " \"Container ID valid: Row(container_id='EDBR1562470')\",\n",
       " \"Container ID valid: Row(container_id='FCMB1487245')\",\n",
       " \"Container ID valid: Row(container_id='UBRI1681197')\",\n",
       " \"Container ID valid: Row(container_id='LFTG1322014')\",\n",
       " \"Container ID valid: Row(container_id='RAUX1713695')\",\n",
       " \"Container ID valid: Row(container_id='QKOJ1756061')\",\n",
       " \"Container ID valid: Row(container_id='JVFH1614514')\",\n",
       " \"Container ID valid: Row(container_id='KETX1362337')\",\n",
       " \"Container ID valid: Row(container_id='KUOG1927848')\",\n",
       " \"Container ID valid: Row(container_id='GSVC1467358')\",\n",
       " \"Container ID valid: Row(container_id='JXRI1226202')\",\n",
       " \"Container ID valid: Row(container_id='QZKL1853985')\",\n",
       " \"Container ID valid: Row(container_id='HDGM1122708')\",\n",
       " \"Container ID valid: Row(container_id='ZBJH1066313')\",\n",
       " \"Container ID valid: Row(container_id='JXSC1016736')\",\n",
       " \"Container ID valid: Row(container_id='KDSR1813098')\",\n",
       " \"Container ID valid: Row(container_id='FUDS1284029')\",\n",
       " \"Container ID valid: Row(container_id='AUFX1637320')\",\n",
       " \"Container ID valid: Row(container_id='EIYR1796301')\",\n",
       " \"Container ID valid: Row(container_id='AZLI1728926')\",\n",
       " \"Container ID valid: Row(container_id='MUXA1618256')\",\n",
       " \"Container ID valid: Row(container_id='EFJM1803872')\",\n",
       " \"Container ID valid: Row(container_id='ARDX1463154')\",\n",
       " \"Container ID valid: Row(container_id='KBQZ1983412')\",\n",
       " \"Container ID valid: Row(container_id='ODSH1639657')\",\n",
       " \"Container ID valid: Row(container_id='QUEL1792946')\",\n",
       " \"Container ID valid: Row(container_id='CRLN1126845')\",\n",
       " \"Container ID valid: Row(container_id='OWHP1632081')\",\n",
       " \"Container ID valid: Row(container_id='JFPX1246669')\",\n",
       " \"Container ID valid: Row(container_id='ZKXM1966654')\",\n",
       " \"Container ID valid: Row(container_id='QMGI1833412')\",\n",
       " \"Container ID valid: Row(container_id='ECRM1050329')\",\n",
       " \"Container ID valid: Row(container_id='SAHR1749748')\",\n",
       " \"Container ID valid: Row(container_id='NDJA1528807')\",\n",
       " \"Container ID valid: Row(container_id='WEGT1272472')\",\n",
       " \"Container ID valid: Row(container_id='JXGC1861649')\",\n",
       " \"Container ID valid: Row(container_id='ZBHO1346218')\",\n",
       " \"Container ID valid: Row(container_id='FDJB1083448')\",\n",
       " \"Container ID valid: Row(container_id='SBQY1341707')\",\n",
       " \"Container ID valid: Row(container_id='WZPA1452583')\",\n",
       " \"Container ID valid: Row(container_id='SJON1137222')\",\n",
       " \"Container ID valid: Row(container_id='YQFX1592065')\",\n",
       " \"Container ID valid: Row(container_id='UTCM1379676')\",\n",
       " \"Container ID valid: Row(container_id='LQAN1510319')\",\n",
       " \"Container ID valid: Row(container_id='GVAI1211710')\",\n",
       " \"Container ID valid: Row(container_id='SIWX1238058')\",\n",
       " \"Container ID valid: Row(container_id='FIBX1336042')\",\n",
       " \"Container ID valid: Row(container_id='CWBK1990414')\",\n",
       " \"Container ID valid: Row(container_id='USKX1840386')\",\n",
       " \"Container ID valid: Row(container_id='RYEZ1487732')\",\n",
       " \"Container ID valid: Row(container_id='WZQU1233232')\",\n",
       " \"Container ID valid: Row(container_id='CUMG1287492')\",\n",
       " \"Container ID valid: Row(container_id='TZWP1948201')\",\n",
       " \"Container ID valid: Row(container_id='BNXA1740707')\",\n",
       " \"Container ID valid: Row(container_id='GEZN1969155')\",\n",
       " \"Container ID valid: Row(container_id='TVSN1337277')\",\n",
       " \"Container ID valid: Row(container_id='CVBF1521179')\",\n",
       " \"Container ID valid: Row(container_id='SMKC1118293')\",\n",
       " \"Container ID valid: Row(container_id='KLNW1611898')\",\n",
       " \"Container ID valid: Row(container_id='FTVU1046486')\",\n",
       " \"Container ID valid: Row(container_id='WLSD1823287')\",\n",
       " \"Container ID valid: Row(container_id='UVWH1851124')\",\n",
       " \"Container ID valid: Row(container_id='IGXK1803458')\",\n",
       " \"Container ID valid: Row(container_id='HWAO1016890')\",\n",
       " \"Container ID valid: Row(container_id='EBWA1179616')\",\n",
       " \"Container ID valid: Row(container_id='DWZS1769315')\",\n",
       " \"Container ID valid: Row(container_id='DEUI1313436')\",\n",
       " \"Container ID valid: Row(container_id='JKAH1323593')\",\n",
       " \"Container ID valid: Row(container_id='JSCT1597345')\",\n",
       " \"Container ID valid: Row(container_id='FWJI1600359')\",\n",
       " \"Container ID valid: Row(container_id='KDQE1715039')\",\n",
       " \"Container ID valid: Row(container_id='NZWR1928566')\",\n",
       " \"Container ID valid: Row(container_id='XJWC1316356')\",\n",
       " \"Container ID valid: Row(container_id='YBZA1370157')\",\n",
       " \"Container ID valid: Row(container_id='BRYA1763766')\",\n",
       " \"Container ID valid: Row(container_id='VFGE1756280')\",\n",
       " \"Container ID valid: Row(container_id='PYBC1620979')\",\n",
       " \"Container ID valid: Row(container_id='EYTS1629257')\",\n",
       " \"Container ID valid: Row(container_id='QKUJ1351719')\",\n",
       " \"Container ID valid: Row(container_id='EXFJ1282822')\",\n",
       " \"Container ID valid: Row(container_id='QVIS1523425')\",\n",
       " \"Container ID valid: Row(container_id='ECRO1222195')\",\n",
       " \"Container ID valid: Row(container_id='VHIM1122818')\",\n",
       " \"Container ID valid: Row(container_id='VYNE1440736')\",\n",
       " \"Container ID valid: Row(container_id='XPOG1294738')\",\n",
       " \"Container ID valid: Row(container_id='UECT1269376')\",\n",
       " \"Container ID valid: Row(container_id='ELPA1946937')\",\n",
       " \"Container ID valid: Row(container_id='AVEC1824142')\",\n",
       " \"Container ID valid: Row(container_id='MLFC1253309')\",\n",
       " \"Container ID valid: Row(container_id='IZYG1841057')\",\n",
       " \"Container ID valid: Row(container_id='FIPL1875845')\",\n",
       " \"Container ID valid: Row(container_id='CZSB1111399')\",\n",
       " \"Container ID valid: Row(container_id='NHXL1785312')\",\n",
       " \"Container ID valid: Row(container_id='CJGK1026642')\",\n",
       " \"Container ID valid: Row(container_id='EJTS1352054')\",\n",
       " \"Container ID valid: Row(container_id='BQVR1408745')\",\n",
       " \"Container ID valid: Row(container_id='HVFU1799048')\",\n",
       " \"Container ID valid: Row(container_id='EPDY1903305')\",\n",
       " \"Container ID valid: Row(container_id='IFMA1770739')\",\n",
       " \"Container ID valid: Row(container_id='GBWF1958753')\",\n",
       " \"Container ID valid: Row(container_id='JLCI1385255')\",\n",
       " \"Container ID valid: Row(container_id='GXTO1045261')\",\n",
       " \"Container ID valid: Row(container_id='PLKO1661930')\",\n",
       " \"Container ID valid: Row(container_id='YECL1500155')\",\n",
       " \"Container ID valid: Row(container_id='KAXN1689141')\",\n",
       " \"Container ID valid: Row(container_id='TPHS1602657')\",\n",
       " \"Container ID valid: Row(container_id='WANT1471953')\",\n",
       " \"Container ID valid: Row(container_id='IYBC1635912')\",\n",
       " \"Container ID valid: Row(container_id='VAZF1647441')\",\n",
       " \"Container ID valid: Row(container_id='TOKR1036053')\",\n",
       " \"Container ID valid: Row(container_id='AYWQ1693963')\",\n",
       " \"Container ID valid: Row(container_id='MQWK1842353')\",\n",
       " \"Container ID valid: Row(container_id='FMHW1096477')\",\n",
       " \"Container ID valid: Row(container_id='VOFZ1029960')\",\n",
       " \"Container ID valid: Row(container_id='RZSP1442116')\",\n",
       " \"Container ID valid: Row(container_id='KQRS1327482')\",\n",
       " \"Container ID valid: Row(container_id='XIGN1561806')\",\n",
       " \"Container ID valid: Row(container_id='ATXB1645038')\",\n",
       " \"Container ID valid: Row(container_id='UVNK1053884')\",\n",
       " \"Container ID valid: Row(container_id='XAFL1226052')\",\n",
       " \"Container ID valid: Row(container_id='FRUC1764067')\",\n",
       " '----- Container ID not valid: Row(container_id=None)-----',\n",
       " \"Container ID valid: Row(container_id='AFUE1434509')\",\n",
       " \"Container ID valid: Row(container_id='EDNU1400946')\",\n",
       " \"Container ID valid: Row(container_id='HXJU1091026')\",\n",
       " \"Container ID valid: Row(container_id='DENF1086740')\",\n",
       " \"Container ID valid: Row(container_id='JLCB1115912')\",\n",
       " \"Container ID valid: Row(container_id='MVRA1476915')\",\n",
       " \"Container ID valid: Row(container_id='BYRD1275933')\",\n",
       " \"Container ID valid: Row(container_id='GTEZ1754453')\",\n",
       " \"Container ID valid: Row(container_id='XPGM1604814')\",\n",
       " \"Container ID valid: Row(container_id='XDUH1976005')\",\n",
       " \"Container ID valid: Row(container_id='ZFRV1370870')\",\n",
       " \"Container ID valid: Row(container_id='NDIB1764675')\",\n",
       " \"Container ID valid: Row(container_id='LYFP1385556')\",\n",
       " \"Container ID valid: Row(container_id='NYEF1441156')\",\n",
       " \"Container ID valid: Row(container_id='JLMF1214385')\",\n",
       " \"Container ID valid: Row(container_id='PYOT1058867')\",\n",
       " \"Container ID valid: Row(container_id='CULG1505325')\",\n",
       " \"Container ID valid: Row(container_id='DNYW1627447')\",\n",
       " \"Container ID valid: Row(container_id='GMYQ1372327')\",\n",
       " \"Container ID valid: Row(container_id='NCQV1361428')\",\n",
       " \"Container ID valid: Row(container_id='TRFA1953641')\",\n",
       " \"Container ID valid: Row(container_id='OIJM1783028')\",\n",
       " \"Container ID valid: Row(container_id='RVXO1614674')\",\n",
       " \"Container ID valid: Row(container_id='QKJF1512895')\",\n",
       " \"Container ID valid: Row(container_id='DZSF1870654')\",\n",
       " \"Container ID valid: Row(container_id='AFDB1968795')\",\n",
       " \"Container ID valid: Row(container_id='AWLR1185613')\",\n",
       " \"Container ID valid: Row(container_id='CUVR1054756')\",\n",
       " \"Container ID valid: Row(container_id='OPEY1438260')\",\n",
       " \"Container ID valid: Row(container_id='XKHZ1009409')\",\n",
       " \"Container ID valid: Row(container_id='ZENQ1035783')\",\n",
       " \"Container ID valid: Row(container_id='VDUQ1801278')\",\n",
       " \"Container ID valid: Row(container_id='OCTV1096320')\",\n",
       " \"Container ID valid: Row(container_id='VIKL1770184')\",\n",
       " \"Container ID valid: Row(container_id='SFYD1735042')\",\n",
       " \"Container ID valid: Row(container_id='GDJN1637689')\",\n",
       " \"Container ID valid: Row(container_id='CUGN1444120')\",\n",
       " \"Container ID valid: Row(container_id='QNCS1427203')\",\n",
       " \"Container ID valid: Row(container_id='JMRC1794889')\",\n",
       " \"Container ID valid: Row(container_id='UFCD1186534')\",\n",
       " \"Container ID valid: Row(container_id='NPCA1369398')\",\n",
       " \"Container ID valid: Row(container_id='ZAPC1629769')\",\n",
       " \"Container ID valid: Row(container_id='MIBX1385176')\",\n",
       " \"Container ID valid: Row(container_id='XDHP1310139')\",\n",
       " \"Container ID valid: Row(container_id='YFSV1815441')\",\n",
       " \"Container ID valid: Row(container_id='HRYS1859631')\",\n",
       " \"Container ID valid: Row(container_id='LZEY1158998')\",\n",
       " \"Container ID valid: Row(container_id='WFRH1359857')\",\n",
       " \"Container ID valid: Row(container_id='RDLC1790229')\",\n",
       " \"Container ID valid: Row(container_id='VYSC1594431')\",\n",
       " \"Container ID valid: Row(container_id='OUNE1930186')\",\n",
       " \"Container ID valid: Row(container_id='AYNZ1241071')\",\n",
       " \"Container ID valid: Row(container_id='PTQO1968117')\",\n",
       " \"Container ID valid: Row(container_id='XAGW1425337')\",\n",
       " \"Container ID valid: Row(container_id='FVUO1457179')\",\n",
       " \"Container ID valid: Row(container_id='WSDQ1478241')\",\n",
       " \"Container ID valid: Row(container_id='GRKO1006585')\",\n",
       " \"Container ID valid: Row(container_id='SETC1782916')\",\n",
       " \"Container ID valid: Row(container_id='TKFB1619614')\",\n",
       " \"Container ID valid: Row(container_id='QKPY1089592')\",\n",
       " \"Container ID valid: Row(container_id='KLDZ1900333')\",\n",
       " \"Container ID valid: Row(container_id='TCSK1473266')\",\n",
       " \"Container ID valid: Row(container_id='ISMG1476476')\",\n",
       " \"Container ID valid: Row(container_id='BNVH1472844')\",\n",
       " \"Container ID valid: Row(container_id='NXHY1138939')\",\n",
       " \"Container ID valid: Row(container_id='ETRB1493706')\",\n",
       " \"Container ID valid: Row(container_id='BTZV1430179')\",\n",
       " \"Container ID valid: Row(container_id='PUQI1574510')\",\n",
       " \"Container ID valid: Row(container_id='MTXZ1869702')\",\n",
       " \"Container ID valid: Row(container_id='CRPG1389859')\",\n",
       " \"Container ID valid: Row(container_id='NWOV1100719')\",\n",
       " \"Container ID valid: Row(container_id='DEMA1443030')\",\n",
       " \"Container ID valid: Row(container_id='RIXQ1656614')\",\n",
       " \"Container ID valid: Row(container_id='IBJT1405596')\",\n",
       " \"Container ID valid: Row(container_id='DHRY1587004')\",\n",
       " \"Container ID valid: Row(container_id='DIXR1436862')\",\n",
       " \"Container ID valid: Row(container_id='MCZO1543304')\",\n",
       " \"Container ID valid: Row(container_id='DHEJ1482989')\",\n",
       " \"Container ID valid: Row(container_id='JRXV1301253')\",\n",
       " \"Container ID valid: Row(container_id='RXOL1255288')\",\n",
       " \"Container ID valid: Row(container_id='TOUI1819305')\",\n",
       " \"Container ID valid: Row(container_id='ROML1055099')\",\n",
       " \"Container ID valid: Row(container_id='CDGP1673672')\",\n",
       " \"Container ID valid: Row(container_id='AKNC1339564')\",\n",
       " \"Container ID valid: Row(container_id='DBYL1052657')\",\n",
       " \"Container ID valid: Row(container_id='WUYX1915071')\",\n",
       " \"Container ID valid: Row(container_id='GJZM1663841')\",\n",
       " \"Container ID valid: Row(container_id='LVNT1596231')\",\n",
       " \"Container ID valid: Row(container_id='VXJA1726628')\",\n",
       " \"Container ID valid: Row(container_id='RUQY1458755')\",\n",
       " \"Container ID valid: Row(container_id='PVKN1769980')\",\n",
       " \"Container ID valid: Row(container_id='VRKB1825210')\",\n",
       " \"----- Container ID not valid: Row(container_id='JMYG190Z978')-----\",\n",
       " \"Container ID valid: Row(container_id='SXRU1855683')\",\n",
       " \"Container ID valid: Row(container_id='FAXS1896570')\",\n",
       " \"Container ID valid: Row(container_id='MTOJ1652986')\",\n",
       " \"Container ID valid: Row(container_id='ERCK1008085')\",\n",
       " \"Container ID valid: Row(container_id='IDPQ1203793')\",\n",
       " \"Container ID valid: Row(container_id='NHBX1922440')\",\n",
       " \"Container ID valid: Row(container_id='RDZK1066020')\",\n",
       " \"Container ID valid: Row(container_id='CEUX1837835')\",\n",
       " \"Container ID valid: Row(container_id='PYQR1212280')\",\n",
       " \"Container ID valid: Row(container_id='UVWZ1710275')\",\n",
       " \"Container ID valid: Row(container_id='JBYC1470458')\",\n",
       " \"Container ID valid: Row(container_id='BFDE1169921')\",\n",
       " \"Container ID valid: Row(container_id='CHTX1389862')\",\n",
       " \"Container ID valid: Row(container_id='OMLP1997239')\",\n",
       " \"Container ID valid: Row(container_id='BOAU1760367')\",\n",
       " \"Container ID valid: Row(container_id='YNUH1796432')\",\n",
       " \"Container ID valid: Row(container_id='PMWB1941895')\",\n",
       " \"Container ID valid: Row(container_id='AFSN1813292')\",\n",
       " \"Container ID valid: Row(container_id='QYIJ1507198')\",\n",
       " \"Container ID valid: Row(container_id='WXSY1119784')\",\n",
       " \"Container ID valid: Row(container_id='HRTP1868114')\",\n",
       " \"Container ID valid: Row(container_id='IOTF1103452')\",\n",
       " \"Container ID valid: Row(container_id='WSLI1971201')\",\n",
       " \"Container ID valid: Row(container_id='TKJF1646184')\",\n",
       " \"Container ID valid: Row(container_id='KEVU1145768')\",\n",
       " \"Container ID valid: Row(container_id='MCLQ1045130')\",\n",
       " \"Container ID valid: Row(container_id='LGNJ1534680')\",\n",
       " \"Container ID valid: Row(container_id='ABRX1421355')\",\n",
       " \"Container ID valid: Row(container_id='ATMP1759885')\",\n",
       " \"Container ID valid: Row(container_id='FTAI1466254')\",\n",
       " \"Container ID valid: Row(container_id='FGTZ1373815')\",\n",
       " \"Container ID valid: Row(container_id='TLHX1505240')\",\n",
       " \"Container ID valid: Row(container_id='MKJC1394642')\",\n",
       " \"Container ID valid: Row(container_id='LGKJ1048851')\",\n",
       " \"Container ID valid: Row(container_id='BHOM1419818')\",\n",
       " \"Container ID valid: Row(container_id='YUWK1895633')\",\n",
       " \"Container ID valid: Row(container_id='SWYM1937819')\",\n",
       " \"Container ID valid: Row(container_id='CDHQ1365359')\",\n",
       " \"Container ID valid: Row(container_id='PZEF1205063')\",\n",
       " \"Container ID valid: Row(container_id='GTBW1611298')\",\n",
       " \"Container ID valid: Row(container_id='BJWD1054004')\",\n",
       " \"Container ID valid: Row(container_id='PXER1084173')\",\n",
       " \"Container ID valid: Row(container_id='BIDK1982072')\",\n",
       " \"Container ID valid: Row(container_id='LBAK1645865')\",\n",
       " \"Container ID valid: Row(container_id='WYRP1456394')\",\n",
       " \"Container ID valid: Row(container_id='CPDG1952185')\",\n",
       " \"Container ID valid: Row(container_id='FUCN1666600')\",\n",
       " \"Container ID valid: Row(container_id='KQRD1982807')\",\n",
       " \"Container ID valid: Row(container_id='GYFD1228113')\",\n",
       " \"Container ID valid: Row(container_id='DQOH1955098')\",\n",
       " \"Container ID valid: Row(container_id='NKYP1493997')\",\n",
       " \"Container ID valid: Row(container_id='HYFW1661127')\",\n",
       " \"Container ID valid: Row(container_id='ZDXV1860335')\",\n",
       " \"Container ID valid: Row(container_id='OKPY1277047')\",\n",
       " \"Container ID valid: Row(container_id='VJMK1000320')\",\n",
       " \"Container ID valid: Row(container_id='VGEW1762501')\",\n",
       " \"Container ID valid: Row(container_id='FEGC1376633')\",\n",
       " \"Container ID valid: Row(container_id='IFRM1662059')\",\n",
       " \"Container ID valid: Row(container_id='CPLW1934967')\",\n",
       " \"Container ID valid: Row(container_id='FQSN1108809')\",\n",
       " \"Container ID valid: Row(container_id='RGJB1176449')\",\n",
       " \"Container ID valid: Row(container_id='ZNQO1799680')\",\n",
       " \"Container ID valid: Row(container_id='ZIVM1675561')\",\n",
       " \"Container ID valid: Row(container_id='GKXC1181753')\",\n",
       " \"Container ID valid: Row(container_id='EHAZ1558662')\",\n",
       " \"Container ID valid: Row(container_id='PQJS1669343')\",\n",
       " \"Container ID valid: Row(container_id='OPAI1120687')\",\n",
       " \"Container ID valid: Row(container_id='URBE1526409')\",\n",
       " \"Container ID valid: Row(container_id='LYCU1659619')\",\n",
       " \"Container ID valid: Row(container_id='DYBQ1019691')\",\n",
       " \"Container ID valid: Row(container_id='QOUA1680052')\",\n",
       " \"Container ID valid: Row(container_id='LEYN1818225')\",\n",
       " \"Container ID valid: Row(container_id='CIPU1939108')\",\n",
       " \"Container ID valid: Row(container_id='OKZM1954363')\",\n",
       " \"Container ID valid: Row(container_id='WYDL1136381')\",\n",
       " \"Container ID valid: Row(container_id='RZXM1154564')\",\n",
       " \"Container ID valid: Row(container_id='QFDL1984479')\",\n",
       " \"Container ID valid: Row(container_id='LNDS1175085')\",\n",
       " \"Container ID valid: Row(container_id='UPTL1981680')\",\n",
       " \"Container ID valid: Row(container_id='NJLK1930682')\",\n",
       " \"Container ID valid: Row(container_id='COFA1918968')\",\n",
       " \"Container ID valid: Row(container_id='YBGM1183774')\",\n",
       " \"Container ID valid: Row(container_id='OJFX1151438')\",\n",
       " \"Container ID valid: Row(container_id='GUHX1208202')\",\n",
       " \"Container ID valid: Row(container_id='WOFM1966636')\",\n",
       " \"Container ID valid: Row(container_id='FIPG1879944')\",\n",
       " \"Container ID valid: Row(container_id='GZPN1583685')\",\n",
       " \"Container ID valid: Row(container_id='QJHY1169629')\",\n",
       " \"Container ID valid: Row(container_id='RIND1445524')\",\n",
       " \"Container ID valid: Row(container_id='TRVM1890904')\",\n",
       " \"Container ID valid: Row(container_id='HCOB1481259')\",\n",
       " \"Container ID valid: Row(container_id='HQRZ1534820')\",\n",
       " \"Container ID valid: Row(container_id='SRMF1228611')\",\n",
       " \"Container ID valid: Row(container_id='QIOX1020318')\",\n",
       " \"Container ID valid: Row(container_id='BCEW1372677')\",\n",
       " \"Container ID valid: Row(container_id='RFGK1728276')\",\n",
       " \"Container ID valid: Row(container_id='LVRT1719418')\",\n",
       " \"Container ID valid: Row(container_id='DFPI1733955')\",\n",
       " \"Container ID valid: Row(container_id='JODT1649411')\",\n",
       " \"Container ID valid: Row(container_id='CUPY1397184')\",\n",
       " \"Container ID valid: Row(container_id='CMXT1179059')\",\n",
       " \"Container ID valid: Row(container_id='PMIJ1119957')\",\n",
       " \"Container ID valid: Row(container_id='DQFO1211437')\",\n",
       " \"Container ID valid: Row(container_id='WVOZ1048472')\",\n",
       " \"Container ID valid: Row(container_id='GPRL1247854')\",\n",
       " \"Container ID valid: Row(container_id='PDXW1549639')\",\n",
       " \"Container ID valid: Row(container_id='SEKQ1924337')\",\n",
       " \"Container ID valid: Row(container_id='OLFN1695711')\",\n",
       " \"Container ID valid: Row(container_id='XTGU1315600')\",\n",
       " \"Container ID valid: Row(container_id='NPCD1004971')\",\n",
       " \"Container ID valid: Row(container_id='HWPJ1646743')\",\n",
       " \"Container ID valid: Row(container_id='WQZY1844272')\",\n",
       " \"Container ID valid: Row(container_id='CKTL1473107')\",\n",
       " \"Container ID valid: Row(container_id='AYIX1032006')\",\n",
       " \"Container ID valid: Row(container_id='FNTE1692533')\",\n",
       " \"Container ID valid: Row(container_id='TGJF1232466')\",\n",
       " \"Container ID valid: Row(container_id='LPSR1612446')\",\n",
       " \"Container ID valid: Row(container_id='KRLM1838851')\",\n",
       " \"Container ID valid: Row(container_id='ZBTJ1113044')\",\n",
       " \"Container ID valid: Row(container_id='PRVT1192068')\",\n",
       " \"Container ID valid: Row(container_id='RGJW1570148')\",\n",
       " \"Container ID valid: Row(container_id='CYLN1780719')\",\n",
       " \"Container ID valid: Row(container_id='ZNUR1173404')\",\n",
       " \"Container ID valid: Row(container_id='UTBN1298929')\",\n",
       " \"Container ID valid: Row(container_id='CIYX1562968')\",\n",
       " \"Container ID valid: Row(container_id='AUMJ1382521')\",\n",
       " \"Container ID valid: Row(container_id='JWYL1471961')\",\n",
       " \"Container ID valid: Row(container_id='VEZI1053174')\",\n",
       " \"Container ID valid: Row(container_id='CUHI1061638')\",\n",
       " \"Container ID valid: Row(container_id='WQBE1790190')\",\n",
       " \"Container ID valid: Row(container_id='PZGR1938358')\",\n",
       " \"Container ID valid: Row(container_id='VJSW1579279')\",\n",
       " \"Container ID valid: Row(container_id='PBXJ1646009')\",\n",
       " \"Container ID valid: Row(container_id='PXDM1479405')\",\n",
       " \"Container ID valid: Row(container_id='TAOC1652907')\",\n",
       " \"Container ID valid: Row(container_id='HLDG1670632')\",\n",
       " \"Container ID valid: Row(container_id='FBHL1900496')\",\n",
       " \"Container ID valid: Row(container_id='BXMT1827488')\",\n",
       " \"----- Container ID not valid: Row(container_id='GJFL14A2798')-----\",\n",
       " \"Container ID valid: Row(container_id='ATKP1845695')\",\n",
       " \"Container ID valid: Row(container_id='MRJY1356860')\",\n",
       " \"Container ID valid: Row(container_id='VXRW1288175')\",\n",
       " \"Container ID valid: Row(container_id='OEJQ1465577')\",\n",
       " \"Container ID valid: Row(container_id='UZWN1824695')\",\n",
       " \"Container ID valid: Row(container_id='EQJA1454315')\",\n",
       " \"Container ID valid: Row(container_id='JSIR1692681')\",\n",
       " \"Container ID valid: Row(container_id='WZSO1549824')\",\n",
       " \"Container ID valid: Row(container_id='ONFR1443516')\",\n",
       " \"Container ID valid: Row(container_id='FYSZ1852539')\",\n",
       " \"Container ID valid: Row(container_id='XWNG1431465')\",\n",
       " \"Container ID valid: Row(container_id='JLXB1297457')\",\n",
       " \"Container ID valid: Row(container_id='FXEG1318207')\",\n",
       " \"Container ID valid: Row(container_id='NASV1545585')\",\n",
       " \"Container ID valid: Row(container_id='YZRV1213932')\",\n",
       " \"Container ID valid: Row(container_id='KTGW1760786')\",\n",
       " \"Container ID valid: Row(container_id='OYVR1551020')\",\n",
       " \"Container ID valid: Row(container_id='TFLG1800501')\",\n",
       " \"Container ID valid: Row(container_id='EHIM1104715')\",\n",
       " \"Container ID valid: Row(container_id='HYUJ1409706')\",\n",
       " \"Container ID valid: Row(container_id='GVBP1482562')\",\n",
       " \"Container ID valid: Row(container_id='YNHL1744872')\",\n",
       " \"Container ID valid: Row(container_id='RUMO1570842')\",\n",
       " \"Container ID valid: Row(container_id='PNAY1584445')\",\n",
       " \"Container ID valid: Row(container_id='KHWB1176701')\",\n",
       " \"Container ID valid: Row(container_id='UNJP1540532')\",\n",
       " \"Container ID valid: Row(container_id='UKTX1911331')\",\n",
       " \"Container ID valid: Row(container_id='HREI1950658')\",\n",
       " \"Container ID valid: Row(container_id='XKAO1357085')\",\n",
       " \"Container ID valid: Row(container_id='JFCL1366077')\",\n",
       " \"Container ID valid: Row(container_id='WRAJ1317408')\",\n",
       " \"Container ID valid: Row(container_id='TEUB1181375')\",\n",
       " \"Container ID valid: Row(container_id='LONM1299749')\",\n",
       " \"Container ID valid: Row(container_id='LIGT1404458')\",\n",
       " \"Container ID valid: Row(container_id='TQZE1167148')\",\n",
       " \"Container ID valid: Row(container_id='TVHC1812691')\",\n",
       " \"Container ID valid: Row(container_id='LJPC1827479')\",\n",
       " \"Container ID valid: Row(container_id='ZTWS1420551')\",\n",
       " \"Container ID valid: Row(container_id='LWJP1212809')\",\n",
       " \"Container ID valid: Row(container_id='RUOE1022508')\",\n",
       " \"Container ID valid: Row(container_id='SQLY1360635')\",\n",
       " \"Container ID valid: Row(container_id='JQEF1263994')\",\n",
       " \"Container ID valid: Row(container_id='GSPB1537963')\",\n",
       " \"Container ID valid: Row(container_id='ROYB1033211')\",\n",
       " \"Container ID valid: Row(container_id='MQEK1576631')\",\n",
       " \"Container ID valid: Row(container_id='PJNR1310128')\",\n",
       " \"Container ID valid: Row(container_id='NUOS1287502')\",\n",
       " \"Container ID valid: Row(container_id='UCAG1998864')\",\n",
       " \"Container ID valid: Row(container_id='MXDP1503847')\",\n",
       " \"Container ID valid: Row(container_id='XKYR1609126')\",\n",
       " \"Container ID valid: Row(container_id='OKANR1240284')\",\n",
       " \"Container ID valid: Row(container_id='MBPF1909627')\",\n",
       " \"Container ID valid: Row(container_id='YNCH1859771')\",\n",
       " \"Container ID valid: Row(container_id='YJHA1340544')\",\n",
       " \"Container ID valid: Row(container_id='POVF1519280')\",\n",
       " \"Container ID valid: Row(container_id='MVEH1057923')\",\n",
       " \"Container ID valid: Row(container_id='KDBQ1301685')\",\n",
       " \"Container ID valid: Row(container_id='ISTZ1222984')\",\n",
       " \"Container ID valid: Row(container_id='LIAH1925219')\",\n",
       " \"Container ID valid: Row(container_id='BFKM1998965')\",\n",
       " \"Container ID valid: Row(container_id='VWXC1808141')\",\n",
       " \"Container ID valid: Row(container_id='KFPY1719986')\",\n",
       " \"Container ID valid: Row(container_id='OQZE1748228')\",\n",
       " \"Container ID valid: Row(container_id='VPXM1120535')\",\n",
       " \"Container ID valid: Row(container_id='EOZS1835716')\",\n",
       " \"Container ID valid: Row(container_id='DMEC1552346')\",\n",
       " \"Container ID valid: Row(container_id='CXZD1435504')\",\n",
       " \"Container ID valid: Row(container_id='KITU1553521')\",\n",
       " \"Container ID valid: Row(container_id='WBEZ1163549')\",\n",
       " \"Container ID valid: Row(container_id='HTUM1970658')\",\n",
       " \"Container ID valid: Row(container_id='DGWY1487172')\",\n",
       " \"Container ID valid: Row(container_id='XGLY1366598')\",\n",
       " \"Container ID valid: Row(container_id='WGPE1187183')\",\n",
       " \"Container ID valid: Row(container_id='BPLC1915097')\",\n",
       " \"Container ID valid: Row(container_id='THEM1059707')\",\n",
       " \"Container ID valid: Row(container_id='HJLP1519858')\",\n",
       " \"Container ID valid: Row(container_id='AMXR1757104')\",\n",
       " \"Container ID valid: Row(container_id='WZEN1870331')\",\n",
       " \"Container ID valid: Row(container_id='CUAO1802862')\",\n",
       " \"Container ID valid: Row(container_id='PIUO1943613')\",\n",
       " \"Container ID valid: Row(container_id='CAET1088752')\",\n",
       " \"Container ID valid: Row(container_id='XBHA1115798')\",\n",
       " \"Container ID valid: Row(container_id='MRFO1474786')\",\n",
       " \"Container ID valid: Row(container_id='HXNW1061510')\",\n",
       " \"----- Container ID not valid: Row(container_id='CTVU1506A832')-----\",\n",
       " \"Container ID valid: Row(container_id='FRWT1616837')\",\n",
       " \"Container ID valid: Row(container_id='DXWV1401188')\",\n",
       " \"Container ID valid: Row(container_id='IQCA1512283')\",\n",
       " \"Container ID valid: Row(container_id='FZYD1713489')\",\n",
       " \"Container ID valid: Row(container_id='TPOY1886946')\",\n",
       " \"Container ID valid: Row(container_id='JYPA1889923')\",\n",
       " \"Container ID valid: Row(container_id='EJIY1208990')\",\n",
       " \"Container ID valid: Row(container_id='WUCN1722499')\",\n",
       " \"Container ID valid: Row(container_id='NSKT1632570')\",\n",
       " \"Container ID valid: Row(container_id='WLXC1887497')\",\n",
       " \"Container ID valid: Row(container_id='RBCY1531756')\",\n",
       " \"Container ID valid: Row(container_id='ICAV1235470')\",\n",
       " \"Container ID valid: Row(container_id='WOPA1316621')\",\n",
       " \"Container ID valid: Row(container_id='BCHE1343448')\",\n",
       " \"Container ID valid: Row(container_id='PNRT1417142')\",\n",
       " \"Container ID valid: Row(container_id='ZKPJ1712598')\",\n",
       " \"Container ID valid: Row(container_id='XALM1624256')\",\n",
       " \"Container ID valid: Row(container_id='ASFZ1205558')\",\n",
       " \"Container ID valid: Row(container_id='ILHM1493639')\",\n",
       " \"Container ID valid: Row(container_id='FIBP1026946')\",\n",
       " \"Container ID valid: Row(container_id='RKPH1300594')\",\n",
       " \"Container ID valid: Row(container_id='ESLR1207932')\",\n",
       " \"Container ID valid: Row(container_id='FJVZ1991672')\",\n",
       " \"Container ID valid: Row(container_id='RHBA1268310')\",\n",
       " \"Container ID valid: Row(container_id='TXKC1468063')\",\n",
       " \"Container ID valid: Row(container_id='CWFZ1507014')\",\n",
       " \"Container ID valid: Row(container_id='ZGXM1193612')\",\n",
       " \"Container ID valid: Row(container_id='YMOB1618691')\",\n",
       " \"Container ID valid: Row(container_id='JRWY1272756')\",\n",
       " \"Container ID valid: Row(container_id='GHRS1419797')\",\n",
       " \"Container ID valid: Row(container_id='ETHF1230333')\",\n",
       " \"Container ID valid: Row(container_id='FXCI1466396')\",\n",
       " \"Container ID valid: Row(container_id='MTIK1932962')\",\n",
       " \"Container ID valid: Row(container_id='GAES1423521')\",\n",
       " \"Container ID valid: Row(container_id='JIUO1898576')\",\n",
       " \"Container ID valid: Row(container_id='FMOS1404136')\",\n",
       " \"Container ID valid: Row(container_id='DSGM1339573')\",\n",
       " \"Container ID valid: Row(container_id='FKXD1723767')\",\n",
       " \"Container ID valid: Row(container_id='KTNX1794324')\",\n",
       " \"Container ID valid: Row(container_id='NFRV1121654')\",\n",
       " \"Container ID valid: Row(container_id='OAEX1795534')\",\n",
       " \"Container ID valid: Row(container_id='TPFR1340370')\",\n",
       " \"Container ID valid: Row(container_id='HPFU1473551')\",\n",
       " \"Container ID valid: Row(container_id='IJWDR1216916')\",\n",
       " \"Container ID valid: Row(container_id='PHJW1108226')\",\n",
       " \"Container ID valid: Row(container_id='CQHV1857959')\",\n",
       " \"Container ID valid: Row(container_id='TZVQ1901625')\",\n",
       " \"Container ID valid: Row(container_id='IXCJ1231754')\",\n",
       " \"Container ID valid: Row(container_id='WUOV1181979')\",\n",
       " \"Container ID valid: Row(container_id='ASUR1878769')\",\n",
       " \"Container ID valid: Row(container_id='RVNZ1574043')\",\n",
       " \"Container ID valid: Row(container_id='WIUO1383856')\",\n",
       " \"Container ID valid: Row(container_id='WKFR1572894')\",\n",
       " \"Container ID valid: Row(container_id='FHAN1487451')\",\n",
       " \"Container ID valid: Row(container_id='ZOUP1933979')\",\n",
       " \"Container ID valid: Row(container_id='OKXC1217261')\",\n",
       " \"Container ID valid: Row(container_id='COAW1753421')\",\n",
       " \"Container ID valid: Row(container_id='HXEB1496360')\",\n",
       " \"Container ID valid: Row(container_id='OQFU1233196')\",\n",
       " \"Container ID valid: Row(container_id='KTXJ1328260')\",\n",
       " \"Container ID valid: Row(container_id='OETY1057464')\",\n",
       " \"Container ID valid: Row(container_id='LEDS1937940')\",\n",
       " \"Container ID valid: Row(container_id='EUNY1883962')\",\n",
       " \"Container ID valid: Row(container_id='VBGI1661427')\",\n",
       " \"Container ID valid: Row(container_id='RJEH1327870')\",\n",
       " \"Container ID valid: Row(container_id='EBWG1924496')\",\n",
       " \"----- Container ID not valid: Row(container_id='DUKF166276')-----\",\n",
       " \"Container ID valid: Row(container_id='ORWI1300335')\",\n",
       " \"Container ID valid: Row(container_id='JYIE1892741')\",\n",
       " \"Container ID valid: Row(container_id='WBHG1717479')\",\n",
       " \"Container ID valid: Row(container_id='IEJK1315199')\",\n",
       " \"Container ID valid: Row(container_id='JUOC1333639')\",\n",
       " \"Container ID valid: Row(container_id='AHZR1995399')\",\n",
       " \"Container ID valid: Row(container_id='TAEO1953283')\",\n",
       " \"Container ID valid: Row(container_id='OJQB1507764')\",\n",
       " \"Container ID valid: Row(container_id='TXOE1622083')\",\n",
       " \"Container ID valid: Row(container_id='ABYG1248882')\",\n",
       " \"Container ID valid: Row(container_id='NTEA1852784')\",\n",
       " \"Container ID valid: Row(container_id='PGUY1304446')\",\n",
       " \"Container ID valid: Row(container_id='YKPG1494066')\",\n",
       " \"Container ID valid: Row(container_id='JPUL1840203')\",\n",
       " \"Container ID valid: Row(container_id='DHEI1246639')\",\n",
       " \"Container ID valid: Row(container_id='USQR1700111')\",\n",
       " \"Container ID valid: Row(container_id='BSKU1788634')\",\n",
       " \"Container ID valid: Row(container_id='LTBM1599254')\",\n",
       " \"Container ID valid: Row(container_id='HDRC1503113')\",\n",
       " \"Container ID valid: Row(container_id='IGXQ1794096')\",\n",
       " \"Container ID valid: Row(container_id='UJWT1787919')\",\n",
       " \"Container ID valid: Row(container_id='TSWH1871393')\",\n",
       " \"Container ID valid: Row(container_id='ABHP1755986')\",\n",
       " \"Container ID valid: Row(container_id='CSXT1902391')\",\n",
       " \"Container ID valid: Row(container_id='HCYU1430319')\",\n",
       " \"Container ID valid: Row(container_id='SWMA1917633')\",\n",
       " \"Container ID valid: Row(container_id='ASXD1490627')\",\n",
       " \"Container ID valid: Row(container_id='QJHN1138413')\",\n",
       " \"Container ID valid: Row(container_id='PIOK1431604')\",\n",
       " \"Container ID valid: Row(container_id='YUZD1277551')\",\n",
       " \"Container ID valid: Row(container_id='EWYX1629423')\",\n",
       " \"Container ID valid: Row(container_id='JHRB1745970')\",\n",
       " \"Container ID valid: Row(container_id='YGDA1978582')\",\n",
       " \"Container ID valid: Row(container_id='WEHN1981664')\",\n",
       " \"Container ID valid: Row(container_id='FXNQ1155651')\",\n",
       " \"Container ID valid: Row(container_id='FCUK1755843')\",\n",
       " \"Container ID valid: Row(container_id='NGAD1817051')\",\n",
       " \"Container ID valid: Row(container_id='RZWT1164290')\",\n",
       " \"Container ID valid: Row(container_id='UEOF1347511')\",\n",
       " \"Container ID valid: Row(container_id='NSIT1499568')\",\n",
       " \"Container ID valid: Row(container_id='PBVF1973616')\",\n",
       " \"Container ID valid: Row(container_id='JNDM1523352')\",\n",
       " \"Container ID valid: Row(container_id='DGPW1535380')\",\n",
       " \"Container ID valid: Row(container_id='KXFV1663110')\",\n",
       " \"Container ID valid: Row(container_id='DILP1744455')\",\n",
       " \"Container ID valid: Row(container_id='QWHY1515214')\",\n",
       " \"Container ID valid: Row(container_id='PAIZ1580933')\",\n",
       " \"Container ID valid: Row(container_id='MAJF1565544')\",\n",
       " \"Container ID valid: Row(container_id='FVNW1691027')\",\n",
       " \"Container ID valid: Row(container_id='DLCR1100460')\",\n",
       " \"Container ID valid: Row(container_id='CMNT1276295')\",\n",
       " \"Container ID valid: Row(container_id='GWCK1101857')\",\n",
       " \"Container ID valid: Row(container_id='PYNM1283955')\",\n",
       " \"Container ID valid: Row(container_id='DYOS1675191')\",\n",
       " \"Container ID valid: Row(container_id='YAZN1142572')\",\n",
       " \"Container ID valid: Row(container_id='BGCS1877419')\",\n",
       " \"Container ID valid: Row(container_id='LARQ1499256')\",\n",
       " \"Container ID valid: Row(container_id='DOCT1869341')\",\n",
       " \"Container ID valid: Row(container_id='GEQV1722373')\",\n",
       " \"Container ID valid: Row(container_id='TAUO1565272')\",\n",
       " \"Container ID valid: Row(container_id='EUWI1623284')\",\n",
       " \"Container ID valid: Row(container_id='PJGZ1036450')\",\n",
       " \"Container ID valid: Row(container_id='IZSB1953388')\",\n",
       " \"Container ID valid: Row(container_id='MDCR1432928')\",\n",
       " \"Container ID valid: Row(container_id='IHUY1768183')\",\n",
       " \"Container ID valid: Row(container_id='VYNQ1921743')\",\n",
       " \"Container ID valid: Row(container_id='NEGX1563989')\",\n",
       " \"Container ID valid: Row(container_id='CGTA1575689')\",\n",
       " \"Container ID valid: Row(container_id='MTXR1152012')\",\n",
       " \"Container ID valid: Row(container_id='KOVJ1821450')\",\n",
       " \"Container ID valid: Row(container_id='GWJT1892996')\",\n",
       " \"Container ID valid: Row(container_id='DJUR1678557')\",\n",
       " \"Container ID valid: Row(container_id='QOTJ1139580')\",\n",
       " \"Container ID valid: Row(container_id='QVWP1964553')\",\n",
       " \"Container ID valid: Row(container_id='APWE1800359')\",\n",
       " \"Container ID valid: Row(container_id='EQPB1510106')\",\n",
       " \"Container ID valid: Row(container_id='YTIA1907843')\",\n",
       " \"Container ID valid: Row(container_id='XMRE1701801')\",\n",
       " \"Container ID valid: Row(container_id='CXZN1286843')\",\n",
       " \"Container ID valid: Row(container_id='HYBC1603821')\",\n",
       " \"Container ID valid: Row(container_id='ZHBS1467991')\",\n",
       " \"Container ID valid: Row(container_id='ZBQU1463342')\",\n",
       " \"Container ID valid: Row(container_id='QXCM1457201')\",\n",
       " \"Container ID valid: Row(container_id='MFOU1196148')\",\n",
       " \"Container ID valid: Row(container_id='SZOE1524818')\",\n",
       " \"Container ID valid: Row(container_id='CGSY1142319')\",\n",
       " \"Container ID valid: Row(container_id='MJCK1406534')\",\n",
       " \"Container ID valid: Row(container_id='KVNH1269301')\",\n",
       " \"Container ID valid: Row(container_id='TROQ1179624')\",\n",
       " \"Container ID valid: Row(container_id='WLCR1609575')\",\n",
       " \"Container ID valid: Row(container_id='FDJV1197689')\",\n",
       " \"Container ID valid: Row(container_id='CHQY1785854')\",\n",
       " \"Container ID valid: Row(container_id='AGBT1235573')\",\n",
       " \"Container ID valid: Row(container_id='KSNC1509143')\",\n",
       " \"Container ID valid: Row(container_id='EKWN1446270')\",\n",
       " \"Container ID valid: Row(container_id='LESN1968884')\",\n",
       " \"Container ID valid: Row(container_id='RUGK1602516')\",\n",
       " \"Container ID valid: Row(container_id='XEBP1842728')\",\n",
       " \"Container ID valid: Row(container_id='WZJB1904459')\",\n",
       " \"Container ID valid: Row(container_id='LFXG1101350')\"]"
      ]
     },
     "execution_count": 76,
     "metadata": {},
     "output_type": "execute_result"
    }
   ],
   "source": [
    "data5.rdd.map(lambda row: validateID(str(row))).collect()"
   ]
  },
  {
   "cell_type": "code",
   "execution_count": 48,
   "metadata": {},
   "outputs": [
    {
     "data": {
      "text/plain": [
       "['__class__',\n",
       " '__delattr__',\n",
       " '__dict__',\n",
       " '__dir__',\n",
       " '__doc__',\n",
       " '__eq__',\n",
       " '__format__',\n",
       " '__ge__',\n",
       " '__getattr__',\n",
       " '__getattribute__',\n",
       " '__getitem__',\n",
       " '__gt__',\n",
       " '__hash__',\n",
       " '__init__',\n",
       " '__le__',\n",
       " '__lt__',\n",
       " '__module__',\n",
       " '__ne__',\n",
       " '__new__',\n",
       " '__reduce__',\n",
       " '__reduce_ex__',\n",
       " '__repr__',\n",
       " '__setattr__',\n",
       " '__sizeof__',\n",
       " '__str__',\n",
       " '__subclasshook__',\n",
       " '__weakref__',\n",
       " '_jcols',\n",
       " '_jdf',\n",
       " '_jmap',\n",
       " '_jseq',\n",
       " '_lazy_rdd',\n",
       " '_sc',\n",
       " '_schema',\n",
       " '_sort_cols',\n",
       " 'agg',\n",
       " 'alias',\n",
       " 'approxQuantile',\n",
       " 'cache',\n",
       " 'checkpoint',\n",
       " 'coalesce',\n",
       " 'collect',\n",
       " 'columns',\n",
       " 'corr',\n",
       " 'count',\n",
       " 'cov',\n",
       " 'createGlobalTempView',\n",
       " 'createOrReplaceTempView',\n",
       " 'createTempView',\n",
       " 'crossJoin',\n",
       " 'crosstab',\n",
       " 'cube',\n",
       " 'describe',\n",
       " 'distinct',\n",
       " 'drop',\n",
       " 'dropDuplicates',\n",
       " 'drop_duplicates',\n",
       " 'dropna',\n",
       " 'dtypes',\n",
       " 'explain',\n",
       " 'fillna',\n",
       " 'filter',\n",
       " 'first',\n",
       " 'foreach',\n",
       " 'foreachPartition',\n",
       " 'freqItems',\n",
       " 'groupBy',\n",
       " 'groupby',\n",
       " 'head',\n",
       " 'intersect',\n",
       " 'isLocal',\n",
       " 'isStreaming',\n",
       " 'is_cached',\n",
       " 'join',\n",
       " 'limit',\n",
       " 'na',\n",
       " 'orderBy',\n",
       " 'persist',\n",
       " 'printSchema',\n",
       " 'randomSplit',\n",
       " 'rdd',\n",
       " 'registerTempTable',\n",
       " 'repartition',\n",
       " 'replace',\n",
       " 'rollup',\n",
       " 'sample',\n",
       " 'sampleBy',\n",
       " 'schema',\n",
       " 'select',\n",
       " 'selectExpr',\n",
       " 'show',\n",
       " 'sort',\n",
       " 'sortWithinPartitions',\n",
       " 'sql_ctx',\n",
       " 'stat',\n",
       " 'storageLevel',\n",
       " 'subtract',\n",
       " 'take',\n",
       " 'toDF',\n",
       " 'toJSON',\n",
       " 'toLocalIterator',\n",
       " 'toPandas',\n",
       " 'union',\n",
       " 'unionAll',\n",
       " 'unpersist',\n",
       " 'where',\n",
       " 'withColumn',\n",
       " 'withColumnRenamed',\n",
       " 'withWatermark',\n",
       " 'write',\n",
       " 'writeStream']"
      ]
     },
     "execution_count": 48,
     "metadata": {},
     "output_type": "execute_result"
    }
   ],
   "source": [
    "dir(data5)"
   ]
  },
  {
   "cell_type": "markdown",
   "metadata": {},
   "source": [
    "## Ejercicio 6. \n",
    "#### Extrae una lista con peso total de cada barco, net_weight, sumando cada contenedor y agrupado por los campos ship_imo y container_group. Devuelve un DataFrame con la siguiente estructura: ship_imo, ship_name, container, total_net_weight.\n",
    "---"
   ]
  },
  {
   "cell_type": "code",
   "execution_count": null,
   "metadata": {
    "collapsed": true
   },
   "outputs": [],
   "source": [
    "data6 = data3"
   ]
  },
  {
   "cell_type": "code",
   "execution_count": null,
   "metadata": {},
   "outputs": [],
   "source": [
    "data6.take(2)"
   ]
  },
  {
   "cell_type": "code",
   "execution_count": null,
   "metadata": {
    "collapsed": true
   },
   "outputs": [],
   "source": [
    "data6new = data6.drop(\"country\", \"departure\", \"container_type\", \\\n",
    "                      \"container_group\", \"gross_weight\", \"owner\", \\\n",
    "                      \"declared\", \"customs_ok\", \"contact\", \"net_weight\")"
   ]
  },
  {
   "cell_type": "code",
   "execution_count": null,
   "metadata": {},
   "outputs": [],
   "source": [
    "data6new.show()"
   ]
  },
  {
   "cell_type": "code",
   "execution_count": null,
   "metadata": {
    "collapsed": true
   },
   "outputs": [],
   "source": [
    "data6new = data6new.withColumn(\"total_net_weight\", lit(0))"
   ]
  },
  {
   "cell_type": "code",
   "execution_count": null,
   "metadata": {},
   "outputs": [],
   "source": [
    "spark.sql(\"SELECT DISTINCT ship_name FROM data\").show()"
   ]
  },
  {
   "cell_type": "code",
   "execution_count": null,
   "metadata": {},
   "outputs": [],
   "source": [
    "spark.sql(\"SELECT DISTINCT container_id FROM data WHERE ship_name='Emardland' \").count()"
   ]
  },
  {
   "cell_type": "code",
   "execution_count": null,
   "metadata": {},
   "outputs": [],
   "source": [
    "data6.filter(data6['ship_name']=='Emardland').count()"
   ]
  },
  {
   "cell_type": "markdown",
   "metadata": {},
   "source": [
    "## Ejercicio 7.\n",
    "#### Guarda los resultados del ejercicio anterior en formato Parquet.\n",
    "---"
   ]
  },
  {
   "cell_type": "code",
   "execution_count": null,
   "metadata": {
    "collapsed": true
   },
   "outputs": [],
   "source": []
  },
  {
   "cell_type": "markdown",
   "metadata": {},
   "source": [
    "## Ejercicio 8.\n",
    "#### ¿En qué casos crees que es más eficiente utilizar formatos como Parquet? ¿Existe alguna desventaja frente a formatos de texto como CSV?\n",
    "---"
   ]
  },
  {
   "cell_type": "code",
   "execution_count": null,
   "metadata": {
    "collapsed": true
   },
   "outputs": [],
   "source": []
  },
  {
   "cell_type": "markdown",
   "metadata": {},
   "source": [
    "## Ejercicio 9.\n",
    "#### ¿Es posible procesar XML mediante Spark? ¿Existe alguna restricción por la cual no sea eficiente procesar un único archivo en multiples nodos? ¿Se te ocurre alguna posible solución para trocear archivos suficientemente grandes? ¿Existe la misma problemática con otros formatos de texto como JSON?\n",
    "---"
   ]
  },
  {
   "cell_type": "markdown",
   "metadata": {
    "collapsed": true
   },
   "source": [
    "Sería posible mediante un librería externa (spark.read.xml que viene de databricks)"
   ]
  },
  {
   "cell_type": "markdown",
   "metadata": {},
   "source": [
    "## Ejercicio 10.\n",
    "#### Spark SQL tiene una función denominada avg que se utiliza para calcular el promedio de un conjunto de valores ¿Por qué los autores han creado esta función en lugar de usar el API estándar de Python o Scala?\n",
    "---"
   ]
  },
  {
   "cell_type": "code",
   "execution_count": 67,
   "metadata": {},
   "outputs": [
    {
     "data": {
      "text/plain": [
       "[Row(_c0='ship_imo;ship_name;country;departure;container_id;container_type;container_group;net_weight;gross_weight;owner;declared;contact;customs_ok'),\n",
       " Row(_c0='AMC1861710;Jayden;BD;201602183;FCUK1755843;4960;28VH;44804866.62;2240243.33;Streich-Wilkinson;Music')]"
      ]
     },
     "execution_count": 67,
     "metadata": {},
     "output_type": "execute_result"
    }
   ],
   "source": [
    "datardd.take(2)"
   ]
  },
  {
   "cell_type": "code",
   "execution_count": 68,
   "metadata": {},
   "outputs": [
    {
     "ename": "AttributeError",
     "evalue": "'NoneType' object has no attribute 'take'",
     "output_type": "error",
     "traceback": [
      "\u001b[0;31m---------------------------------------------------------------------------\u001b[0m",
      "\u001b[0;31mAttributeError\u001b[0m                            Traceback (most recent call last)",
      "\u001b[0;32m<ipython-input-68-da3619b164bc>\u001b[0m in \u001b[0;36m<module>\u001b[0;34m()\u001b[0m\n\u001b[0;32m----> 1\u001b[0;31m \u001b[0mdatardd\u001b[0m\u001b[0;34m.\u001b[0m\u001b[0mforeach\u001b[0m\u001b[0;34m(\u001b[0m\u001b[0mtest\u001b[0m\u001b[0;34m)\u001b[0m\u001b[0;34m.\u001b[0m\u001b[0mtake\u001b[0m\u001b[0;34m(\u001b[0m\u001b[0;36m2\u001b[0m\u001b[0;34m)\u001b[0m\u001b[0;34m\u001b[0m\u001b[0m\n\u001b[0m",
      "\u001b[0;31mAttributeError\u001b[0m: 'NoneType' object has no attribute 'take'"
     ]
    }
   ],
   "source": [
    "datardd.foreach(test).take(2)"
   ]
  },
  {
   "cell_type": "code",
   "execution_count": null,
   "metadata": {
    "collapsed": true
   },
   "outputs": [],
   "source": []
  }
 ],
 "metadata": {
  "kernelspec": {
   "display_name": "Python 3",
   "language": "python",
   "name": "python3"
  },
  "language_info": {
   "codemirror_mode": {
    "name": "ipython",
    "version": 3
   },
   "file_extension": ".py",
   "mimetype": "text/x-python",
   "name": "python",
   "nbconvert_exporter": "python",
   "pygments_lexer": "ipython3",
   "version": "3.5.2"
  }
 },
 "nbformat": 4,
 "nbformat_minor": 2
}
