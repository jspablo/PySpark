{
 "cells": [
  {
   "cell_type": "markdown",
   "metadata": {},
   "source": [
    "# PySpark"
   ]
  },
  {
   "cell_type": "markdown",
   "metadata": {},
   "source": [
    "Running PySpark on docker by using [jupyter/pyspark-notebook](https://hub.docker.com/r/jupyter/pyspark-notebook/) container. This notebook shows test scripts working."
   ]
  },
  {
   "cell_type": "code",
   "execution_count": 1,
   "metadata": {
    "collapsed": true
   },
   "outputs": [],
   "source": [
    "import pyspark"
   ]
  },
  {
   "cell_type": "code",
   "execution_count": 2,
   "metadata": {},
   "outputs": [
    {
     "data": {
      "text/plain": [
       "'/home/jovyan/work'"
      ]
     },
     "execution_count": 2,
     "metadata": {},
     "output_type": "execute_result"
    }
   ],
   "source": [
    "pwd"
   ]
  },
  {
   "cell_type": "code",
   "execution_count": 3,
   "metadata": {},
   "outputs": [
    {
     "name": "stdout",
     "output_type": "stream",
     "text": [
      "\u001b[0m\u001b[34;42mdata_processing_course-master\u001b[0m/  \u001b[01;32mPySpark.ipynb\u001b[0m*\r\n"
     ]
    }
   ],
   "source": [
    "ls"
   ]
  },
  {
   "cell_type": "code",
   "execution_count": 4,
   "metadata": {},
   "outputs": [
    {
     "name": "stdout",
     "output_type": "stream",
     "text": [
      "/home/jovyan/work/data_processing_course-master\n"
     ]
    }
   ],
   "source": [
    "cd data_processing_course-master"
   ]
  },
  {
   "cell_type": "code",
   "execution_count": 5,
   "metadata": {},
   "outputs": [
    {
     "name": "stdout",
     "output_type": "stream",
     "text": [
      "\u001b[0m\u001b[34;42massignments\u001b[0m/  \u001b[01;32mbootstrap.sh\u001b[0m*  \u001b[34;42minfra\u001b[0m/    \u001b[01;32mlocal_setup.sh\u001b[0m*  \u001b[34;42mspark\u001b[0m/\r\n",
      "\u001b[34;42mbeam\u001b[0m/         \u001b[34;42mdata\u001b[0m/          \u001b[01;32mLICENSE\u001b[0m*  \u001b[01;32mREADME.md\u001b[0m*       \u001b[01;32mVagrantfile\u001b[0m*\r\n"
     ]
    }
   ],
   "source": [
    "ls"
   ]
  },
  {
   "cell_type": "code",
   "execution_count": 6,
   "metadata": {},
   "outputs": [
    {
     "name": "stdout",
     "output_type": "stream",
     "text": [
      "/home/jovyan/work/data_processing_course-master/assignments\n"
     ]
    }
   ],
   "source": [
    "cd assignments"
   ]
  },
  {
   "cell_type": "code",
   "execution_count": 7,
   "metadata": {},
   "outputs": [
    {
     "name": "stdout",
     "output_type": "stream",
     "text": [
      "\u001b[0m\u001b[01;32mbootstrap.sh\u001b[0m*     \u001b[01;32mpytest.ini\u001b[0m*           \u001b[01;32mtest_ejercicio_3.py\u001b[0m*\r\n",
      "\u001b[01;32mconftest.py\u001b[0m*      \u001b[01;32mREADME.md\u001b[0m*            \u001b[01;32mtest_ejercicio_4.py\u001b[0m*\r\n",
      "\u001b[01;32mcontenedores.py\u001b[0m*  \u001b[01;32mrequirements.txt\u001b[0m*     \u001b[01;32mtest_ejercicio_5.py\u001b[0m*\r\n",
      "\u001b[34;42mdata\u001b[0m/             \u001b[01;32mtest_ejercicio_0.py\u001b[0m*  \u001b[01;32mtest_ejercicio_6.py\u001b[0m*\r\n",
      "\u001b[01;32mhelpers.py\u001b[0m*       \u001b[01;32mtest_ejercicio_1.py\u001b[0m*  \u001b[01;32mVagrantfile\u001b[0m*\r\n",
      "\u001b[34;42m__pycache__\u001b[0m/      \u001b[01;32mtest_ejercicio_2.py\u001b[0m*\r\n"
     ]
    }
   ],
   "source": [
    "ls"
   ]
  },
  {
   "cell_type": "code",
   "execution_count": 8,
   "metadata": {},
   "outputs": [],
   "source": [
    "%run contenedores.py"
   ]
  },
  {
   "cell_type": "code",
   "execution_count": 9,
   "metadata": {},
   "outputs": [
    {
     "name": "stdout",
     "output_type": "stream",
     "text": [
      "0,1,2,3,4,5,6,7,8,9\r\n"
     ]
    }
   ],
   "source": [
    "cat resultados/resultado_0"
   ]
  }
 ],
 "metadata": {
  "kernelspec": {
   "display_name": "Python 3",
   "language": "python",
   "name": "python3"
  },
  "language_info": {
   "codemirror_mode": {
    "name": "ipython",
    "version": 3
   },
   "file_extension": ".py",
   "mimetype": "text/x-python",
   "name": "python",
   "nbconvert_exporter": "python",
   "pygments_lexer": "ipython3",
   "version": "3.5.2"
  }
 },
 "nbformat": 4,
 "nbformat_minor": 2
}
