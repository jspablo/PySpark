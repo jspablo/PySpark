{
 "cells": [
  {
   "cell_type": "markdown",
   "metadata": {},
   "source": [
    "# Text mining"
   ]
  },
  {
   "cell_type": "code",
   "execution_count": 1,
   "metadata": {
    "collapsed": true
   },
   "outputs": [],
   "source": [
    "import pyspark\n",
    "from pyspark.sql import SparkSession"
   ]
  },
  {
   "cell_type": "code",
   "execution_count": 2,
   "metadata": {
    "collapsed": true
   },
   "outputs": [],
   "source": [
    "spark = SparkSession \\\n",
    "    .builder \\\n",
    "    .appName(\"Python Spark SQL basic example\") \\\n",
    "    .config(\"spark.some.config.option\", \"some-value\") \\\n",
    "    .getOrCreate()"
   ]
  },
  {
   "cell_type": "code",
   "execution_count": 12,
   "metadata": {},
   "outputs": [
    {
     "name": "stdout",
     "output_type": "stream",
     "text": [
      "\u001b[0m\u001b[34;42mcsvdata\u001b[0m/  \u001b[01;32mpysparkTextMining.ipynb\u001b[0m*  \u001b[34;42mspark-warehouse\u001b[0m/\r\n"
     ]
    }
   ],
   "source": [
    "ls"
   ]
  },
  {
   "cell_type": "code",
   "execution_count": 18,
   "metadata": {},
   "outputs": [],
   "source": [
    "dataframe = spark.read.format(\"csv\").option(\"header\", \"false\").load(\"./csvdata/*.csv\")\n",
    "#spark.read.option(\"header\", \"true\").csv(\"../Downloads/*.csv\")"
   ]
  },
  {
   "cell_type": "code",
   "execution_count": 19,
   "metadata": {},
   "outputs": [
    {
     "data": {
      "text/plain": [
       "[Row(_c0='#4FRebelionDePatriotas Rebelión Cívico-Militar la concepción de nuestra Fuerza Armada Nacional Bolivariana @bchchfal'),\n",
       " Row(_c0='#4FRebelionDePatriotas ¿Quien sino Chávez?')]"
      ]
     },
     "execution_count": 19,
     "metadata": {},
     "output_type": "execute_result"
    }
   ],
   "source": [
    "dataframe.take(2)"
   ]
  },
  {
   "cell_type": "code",
   "execution_count": 20,
   "metadata": {},
   "outputs": [
    {
     "name": "stdout",
     "output_type": "stream",
     "text": [
      "+--------------------+\n",
      "|                 _c0|\n",
      "+--------------------+\n",
      "|#4FRebelionDePatr...|\n",
      "|#4FRebelionDePatr...|\n",
      "|#4FRebelionDePatr...|\n",
      "|#4FRebelionDePatr...|\n",
      "|#4FRebelionDePatr...|\n",
      "|#BonucciTerrorist...|\n",
      "|#BonucciTerrorist...|\n",
      "|A los grupos fasc...|\n",
      "|@hugbelpsuv @Nico...|\n",
      "|@hugbelpsuv Con l...|\n",
      "|EPII centro insta...|\n",
      "|EPII centro insta...|\n",
      "|@jaarreaza @frent...|\n",
      "|@jah4508 Fino. Es...|\n",
      "|#TengoUnaDuda Si ...|\n",
      "|@dppsuv Feliz Cum...|\n",
      "|        Te digo algo|\n",
      "|Balance del campa...|\n",
      "|Balance del campa...|\n",
      "|#NoSeLoDigasANadi...|\n",
      "+--------------------+\n",
      "only showing top 20 rows\n",
      "\n"
     ]
    }
   ],
   "source": [
    "dataframe.show()"
   ]
  },
  {
   "cell_type": "code",
   "execution_count": null,
   "metadata": {
    "collapsed": true
   },
   "outputs": [],
   "source": []
  }
 ],
 "metadata": {
  "kernelspec": {
   "display_name": "Python 3",
   "language": "python",
   "name": "python3"
  },
  "language_info": {
   "codemirror_mode": {
    "name": "ipython",
    "version": 3
   },
   "file_extension": ".py",
   "mimetype": "text/x-python",
   "name": "python",
   "nbconvert_exporter": "python",
   "pygments_lexer": "ipython3",
   "version": "3.5.2"
  }
 },
 "nbformat": 4,
 "nbformat_minor": 2
}
